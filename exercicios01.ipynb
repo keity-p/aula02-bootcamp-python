{
 "cells": [
  {
   "cell_type": "markdown",
   "id": "ea30a023",
   "metadata": {},
   "source": [
    "# Exercícios de Tipos Primitivos"
   ]
  },
  {
   "cell_type": "markdown",
   "id": "78773efc",
   "metadata": {},
   "source": [
    "## Inteiros"
   ]
  },
  {
   "cell_type": "code",
   "execution_count": 3,
   "id": "44459cb2",
   "metadata": {},
   "outputs": [
    {
     "name": "stdout",
     "output_type": "stream",
     "text": [
      "O resultado da soma é 5\n"
     ]
    }
   ],
   "source": [
    "# 1. Escreva um programa que soma dois números inteiros inseridos pelo usuário.\n",
    "numero1 = int(input('Digite o primeiro número para soma: '))\n",
    "numero2 = int(input('Digite o segundo número a ser somado: '))\n",
    "resultado = numero1 + numero2\n",
    "print(f'O resultado da soma é {resultado}')"
   ]
  },
  {
   "cell_type": "code",
   "execution_count": null,
   "id": "8e057733",
   "metadata": {},
   "outputs": [],
   "source": [
    "# 2. Crie um programa que receba um número do usuário e calcule o resto da divisão desse número por 5.\n",
    "numero = int(input('Digite o número para saber o resto da divisão por 5: '))\n",
    "resultado = numero % 5\n",
    "print(f'O resto da divisão do seu número por 5 é: {resultado}')"
   ]
  },
  {
   "cell_type": "code",
   "execution_count": null,
   "id": "2f66b802",
   "metadata": {},
   "outputs": [],
   "source": [
    "# 3. Desenvolva um programa que multiplique dois números fornecidos pelo usuário e mostre o resultado.\n",
    "numero1 = int(input('Digite o primeiro número da sua multiplicação: '))\n",
    "numero2 = int(input('Digite o segundo número que você quer multiplicar: '))\n",
    "resultado = numero1 * numero2\n",
    "print(f'O resultado da sua multiplicação é: {resultado}')"
   ]
  },
  {
   "cell_type": "code",
   "execution_count": null,
   "id": "1beafe1e",
   "metadata": {},
   "outputs": [],
   "source": [
    "# 4. Faça um programa que peça dois números inteiros e imprima a divisão inteira do primeiro pelo segundo.\n",
    "numero1 = int(input('Digite o primeiro número da sua divisão: '))\n",
    "numero2 = int(input('Digite o segundo número da divisão: '))\n",
    "resultado = int(numero1 / numero2)\n",
    "print(f'O resultado da sua divisão é: {resultado}')"
   ]
  },
  {
   "cell_type": "code",
   "execution_count": null,
   "id": "7efad2d5",
   "metadata": {},
   "outputs": [],
   "source": [
    "# 5. Escreva um programa que calcule o quadrado de um número fornecido pelo usuário.\n",
    "numero = int(input('Digite o número para vermos qual o valor ao quadrado: '))\n",
    "resultado = int(numero ** 2)\n",
    "print(f'O resultado do seu número ao quadrado é: {resultado}')"
   ]
  },
  {
   "cell_type": "markdown",
   "id": "a1985e25",
   "metadata": {},
   "source": [
    "## Números de Ponto Flutuante (`float`)"
   ]
  },
  {
   "cell_type": "code",
   "execution_count": null,
   "id": "5e2cbde7",
   "metadata": {},
   "outputs": [],
   "source": [
    "# 6. Escreva um programa que receba dois números flutuantes e realize sua adição.\n",
    "numero1 = float(input('Digite o primeiro número para soma: '))\n",
    "numero2 = float(input('Digite o segundo número a ser somado: '))\n",
    "resultado = numero1 + numero2\n",
    "print(f'O resultado da soma é {resultado}')"
   ]
  },
  {
   "cell_type": "code",
   "execution_count": null,
   "id": "30a96761",
   "metadata": {},
   "outputs": [],
   "source": [
    "# 7. Crie um programa que calcule a média de dois números flutuantes fornecidos pelo usuário.\n",
    "numero1 = float(input('Digite o primeiro número para o cálculo da média: '))\n",
    "numero2 = float(input('Digite o segundo número para o cálculo da média: '))\n",
    "resultado = (numero1 + numero2)/2 \n",
    "print(f'O resultado da média é {resultado}')"
   ]
  },
  {
   "cell_type": "code",
   "execution_count": null,
   "id": "03b07f50",
   "metadata": {},
   "outputs": [],
   "source": [
    "# 8. Desenvolva um programa que calcule a potência de um número (base e expoente fornecidos pelo usuário).\n",
    "numero1 = float(input('Digite o primeiro número base para o cálculo de potência: '))\n",
    "numero2 = float(input('Digite o segundo número (expoente): '))\n",
    "resultado = numero1 ** numero2\n",
    "print(f'O resultado da média é {resultado}')"
   ]
  },
  {
   "cell_type": "code",
   "execution_count": null,
   "id": "929cac91",
   "metadata": {},
   "outputs": [],
   "source": [
    "# 9. Faça um programa que converta a temperatura de Celsius para Fahrenheit.\n",
    "celsius = float(input(\"Digite a temperatura em Celsius: \"))\n",
    "fahrenheit = (celsius * 9/5) + 32\n",
    "print(f\"{celsius}°C equivalem a {fahrenheit:.2f}°F\")"
   ]
  },
  {
   "cell_type": "code",
   "execution_count": null,
   "id": "c37788ad",
   "metadata": {},
   "outputs": [],
   "source": [
    "# 10. Escreva um programa que calcule a área de um círculo, recebendo o raio como entrada.\n",
    "raio = float(input(\"Digite o raio do círculo: \"))\n",
    "pi = 3.14\n",
    "area = pi * raio ** 2\n",
    "print(f\"A área do círculo com raio {raio} é {area:.2f}\")"
   ]
  },
  {
   "cell_type": "markdown",
   "id": "6b622c5b",
   "metadata": {},
   "source": [
    "## Strings (`str`)"
   ]
  },
  {
   "cell_type": "code",
   "execution_count": null,
   "id": "5031ad17",
   "metadata": {},
   "outputs": [],
   "source": [
    "# 11. Escreva um programa que receba uma string do usuário e a converta para maiúsculas.\n",
    "palavra = str(input('Digite uma palavra para se transformar em letra maiúscula: '))\n",
    "print(palavra.upper())"
   ]
  },
  {
   "cell_type": "code",
   "execution_count": null,
   "id": "51dda159",
   "metadata": {},
   "outputs": [],
   "source": [
    "# 12. Crie um programa que receba o nome completo do usuário e imprima o nome com todas as letras minúsculas.\n",
    "nome = str(input('Digite seu nome completo para se transformar em letras minúsculas: '))\n",
    "print(nome.lower())"
   ]
  },
  {
   "cell_type": "code",
   "execution_count": null,
   "id": "2afb315d",
   "metadata": {},
   "outputs": [],
   "source": [
    "# 13. Desenvolva um programa que peça ao usuário para inserir uma frase e, em seguida, imprima esta frase sem espaços em branco no início e no final.\n",
    "frase = input('Escreva uma frase para ficar sem espaços: ')\n",
    "print(frase.strip())"
   ]
  },
  {
   "cell_type": "code",
   "execution_count": null,
   "id": "391ae0f8",
   "metadata": {},
   "outputs": [],
   "source": [
    "# 14. Faça um programa que peça ao usuário para digitar uma data no formato \"dd/mm/aaaa\" e, em seguida, imprima o dia, o mês e o ano separadamente.\n",
    "data = input('Digite a data no formato \"dd/mm/yyyy\": ')\n",
    "dia, mes, ano = data.split(\"/\")\n",
    "print(\"Dia:\", dia)\n",
    "print(\"Mês:\", mes)\n",
    "print(\"Ano:\", ano)"
   ]
  },
  {
   "cell_type": "code",
   "execution_count": null,
   "id": "a1a01dcb",
   "metadata": {},
   "outputs": [],
   "source": [
    "# 15. Escreva um programa que concatene duas strings fornecidas pelo usuário.\n",
    "parte1 = input(\"Digite a primeira parte do texto: \")\n",
    "parte2 = input(\"Digite a segunda parte do texto: \")\n",
    "texto_concatenado = parte1 + parte2\n",
    "print(\"Texto concatenado:\", texto_concatenado)"
   ]
  },
  {
   "cell_type": "markdown",
   "id": "1e39b5fe",
   "metadata": {},
   "source": [
    "## Booleanos (`bool`)"
   ]
  },
  {
   "cell_type": "code",
   "execution_count": null,
   "id": "9dc0d87e",
   "metadata": {},
   "outputs": [],
   "source": [
    "# 16. Escreva um programa que avalie duas expressões booleanas inseridas pelo usuário e retorne o resultado da operação AND entre elas.\n",
    "valor1 = True\n",
    "valor2 = False\n",
    "resultado_and = valor1 and valor2\n",
    "print(\"Resultado do AND lógico:\", resultado_and)"
   ]
  },
  {
   "cell_type": "code",
   "execution_count": null,
   "id": "c89a7376",
   "metadata": {},
   "outputs": [],
   "source": [
    "# 17. Crie um programa que receba dois valores booleanos do usuário e retorne o resultado da operação OR.\n",
    "valor1 = True\n",
    "valor2 = False\n",
    "resultado_or = valor1 or valor2\n",
    "print(\"Resultado do OR lógico:\", resultado_or)"
   ]
  },
  {
   "cell_type": "code",
   "execution_count": null,
   "id": "311339b8",
   "metadata": {},
   "outputs": [],
   "source": [
    "# 18. Desenvolva um programa que peça ao usuário para inserir um valor booleano e, em seguida, inverta esse valor.\n",
    "valor1 = True\n",
    "resultado_not = not valor1\n",
    "print(\"Resultado do NOT lógico:\", resultado_not)"
   ]
  },
  {
   "cell_type": "code",
   "execution_count": null,
   "id": "fe4301e8",
   "metadata": {},
   "outputs": [],
   "source": [
    "# 19. Faça um programa que compare se dois números fornecidos pelo usuário são iguais.\n",
    "num1 = 5\n",
    "num2 = 5\n",
    "resultado_igualdade = (num1 == num2)\n",
    "print(\"Resultado da igualdade:\", resultado_igualdade)"
   ]
  },
  {
   "cell_type": "code",
   "execution_count": null,
   "id": "b5ea9207",
   "metadata": {},
   "outputs": [],
   "source": [
    "# 20. Escreva um programa que verifique se dois números fornecidos pelo usuário são diferentes.\n",
    "num1 = 5\n",
    "num2 = 5\n",
    "resultado_diferenca = (num1 != num2)\n",
    "print(\"Resultado da diferença:\", resultado_diferenca)"
   ]
  }
 ],
 "metadata": {
  "kernelspec": {
   "display_name": "Python 3",
   "language": "python",
   "name": "python3"
  },
  "language_info": {
   "codemirror_mode": {
    "name": "ipython",
    "version": 3
   },
   "file_extension": ".py",
   "mimetype": "text/x-python",
   "name": "python",
   "nbconvert_exporter": "python",
   "pygments_lexer": "ipython3",
   "version": "3.12.10"
  }
 },
 "nbformat": 4,
 "nbformat_minor": 5
}
