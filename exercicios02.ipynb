{
 "cells": [
  {
   "cell_type": "markdown",
   "id": "2a761371",
   "metadata": {},
   "source": [
    "# Exercícios try-except e if"
   ]
  },
  {
   "cell_type": "code",
   "execution_count": null,
   "id": "308392e4",
   "metadata": {},
   "outputs": [],
   "source": [
    "# 21: Conversor de Temperatura\n",
    "try:\n",
    "    celsius = float(input(\"Digite a temperatura em Celsius: \"))\n",
    "    fahrenheit = (celsius * 9/5) + 32\n",
    "    print(f\"{celsius}°C é igual a {fahrenheit}°F.\")\n",
    "except ValueError:\n",
    "    print(\"Por favor, digite um número válido para a temperatura.\")"
   ]
  },
  {
   "cell_type": "code",
   "execution_count": null,
   "id": "0b114d6a",
   "metadata": {},
   "outputs": [],
   "source": [
    "# 22: Verificador de Palíndromo\n",
    "entrada = input(\"Digite uma palavra ou frase: \")\n",
    "if isinstance(entrada, str):\n",
    "    formatado = entrada.replace(\" \", \"\").lower()\n",
    "    if formatado == formatado[::-1]:\n",
    "        print(\"É um palíndromo.\")\n",
    "    else:\n",
    "        print(\"Não é um palíndromo.\")\n",
    "else:\n",
    "    print(\"Entrada inválida. Por favor, digite uma palavra ou frase.\")"
   ]
  },
  {
   "cell_type": "code",
   "execution_count": null,
   "id": "bf8dfdb2",
   "metadata": {},
   "outputs": [],
   "source": [
    "# 23: Calculadora Simples\n",
    "try:\n",
    "    num1 = float(input(\"Digite o primeiro número: \"))\n",
    "    num2 = float(input(\"Digite o segundo número: \"))\n",
    "    operador = input(\"Digite o operador (+, -, *, /): \")\n",
    "    if operador == '+':\n",
    "        resultado = num1 + num2\n",
    "    elif operador == '-':\n",
    "        resultado = num1 - num2\n",
    "    elif operador == '*':\n",
    "        resultado = num1 * num2\n",
    "    elif operador == '/' and num2 != 0:\n",
    "        resultado = num1 / num2\n",
    "    else:\n",
    "        print(\"Operador inválido ou divisão por zero.\")\n",
    "    print(\"Resultado:\", resultado)\n",
    "except ValueError:\n",
    "    print(\"Erro: Entrada inválida. Certifique-se de inserir números.\")"
   ]
  },
  {
   "cell_type": "code",
   "execution_count": null,
   "id": "277cc995",
   "metadata": {},
   "outputs": [],
   "source": [
    "# 24: Classificador de Números\n",
    "try:\n",
    "    numero = int(input(\"Digite um número: \"))\n",
    "    if numero > 0:\n",
    "        print(\"Positivo\")\n",
    "    elif numero < 0:\n",
    "        print(\"Negativo\")\n",
    "    else:\n",
    "        print(\"Zero\")\n",
    "    if numero % 2 == 0:\n",
    "        print(\"Par\")\n",
    "    else:\n",
    "        print(\"Ímpar\")\n",
    "except ValueError:\n",
    "    print(\"Por favor, digite um número inteiro válido.\")"
   ]
  },
  {
   "cell_type": "code",
   "execution_count": null,
   "id": "8568923b",
   "metadata": {},
   "outputs": [],
   "source": [
    "# 25: Conversão de Tipo com Validação\n",
    "entrada_lista = input(\"Digite uma lista de números separados por vírgula: \")\n",
    "numeros_str = entrada_lista.split(\",\")\n",
    "numeros_int = []\n",
    "try:\n",
    "    for num in numeros_str:\n",
    "        numeros_int.append(int(num.strip()))\n",
    "    print(\"Lista de inteiros:\", numeros_int)\n",
    "except ValueError:\n",
    "    print(\"Erro: certifique-se de que todos os elementos são números inteiros válidos.\")"
   ]
  }
 ],
 "metadata": {
  "language_info": {
   "name": "python"
  }
 },
 "nbformat": 4,
 "nbformat_minor": 5
}
